{
 "cells": [
  {
   "cell_type": "code",
   "execution_count": null,
   "id": "ad04379c",
   "metadata": {},
   "outputs": [],
   "source": [
    "\n",
    "#FORcoursera\n"
   ]
  },
  {
   "cell_type": "code",
   "execution_count": null,
   "id": "60d5b9ac",
   "metadata": {},
   "outputs": [],
   "source": [
    "### Introduction ###\n",
    "\n",
    "# Welcome to my assignment for coursera!\n",
    "# I'm not hundred percent sure about if I'm doing this right but let's get started!\n"
   ]
  },
  {
   "cell_type": "code",
   "execution_count": null,
   "id": "1955c889",
   "metadata": {},
   "outputs": [],
   "source": [
    "# Data Science Languages #\n",
    "\n",
    "# Data science has a wide range of programming languages but here is some of the popular data science languages.\n",
    "# - Python, R, SQL, Julia, Scala, Java, JavaScript, C, C+.\n"
   ]
  },
  {
   "cell_type": "code",
   "execution_count": null,
   "id": "6038f982",
   "metadata": {},
   "outputs": [],
   "source": [
    "# Data Science Libraries #\n",
    "\n",
    "# Here are some popular data science libraries that provides data manipulation, analysis, visualization, and machine learning for Pyhton and R:\n",
    "# - For python:  Numpy, Pandas, Matplotlib, Seaborn, Scikit-Learn, TensorFlow.\n",
    "# - For R:       ggplot2, dplyr, tidyr, caret, randomForest.\n"
   ]
  },
  {
   "cell_type": "code",
   "execution_count": null,
   "id": "ec5655a5",
   "metadata": {},
   "outputs": [],
   "source": [
    "# Data Science Tools #\n",
    "\n",
    "# Data science tools are software applications, libraries, frameworks, and programming languages that help data science processes.\n",
    "# Depending on your specific preferences, you can choose the tools that best fit your needs. Here are some popular Data Science tools:\n",
    "# - Pyhton, R, Jupyter Notebook, Pandas, NumPy, Seaborn; Scikit-learn, Matplotlib, Keras, Pythorch, Dask, Apache Spark, Tableau\n"
   ]
  },
  {
   "cell_type": "code",
   "execution_count": null,
   "id": "5df801a8",
   "metadata": {
    "scrolled": false
   },
   "outputs": [],
   "source": [
    "# Arithmetic expressions #\n",
    "\n",
    "# Arithmetic expressions are an essential part of any programming or mathematical computation.\n",
    "# Here Are some basic arithmetic expression examples:\n",
    "# - Addition, Subtraction, Multiplication, Division, Modulo, Exponentiation."
   ]
  },
  {
   "cell_type": "code",
   "execution_count": null,
   "id": "ebb0ba0f",
   "metadata": {},
   "outputs": [],
   "source": [
    "num1=int(input(\"please enter a number\"))\n",
    "num2=int(input(\"please enter a number\"))\n",
    "Multiplication=num1*num2\n",
    "Addition=num1+num2\n",
    "print(Multiplication)\n",
    "print(Addition)"
   ]
  },
  {
   "cell_type": "code",
   "execution_count": null,
   "id": "a9413c55",
   "metadata": {},
   "outputs": [],
   "source": [
    "minutes=int(input(\"Please enter the minutes you want to convert to hours.\"))\n",
    "hours=minutes/60\n",
    "print(hours)"
   ]
  },
  {
   "cell_type": "code",
   "execution_count": null,
   "id": "f1805275",
   "metadata": {},
   "outputs": [],
   "source": [
    "# Objectives #\n",
    "\n",
    "# - Data Exploration, Data Visualization, Data Gathering, Data Integration, Unsupervised Learning.\n"
   ]
  },
  {
   "cell_type": "code",
   "execution_count": null,
   "id": "b7b8121c",
   "metadata": {},
   "outputs": [],
   "source": [
    "# Author’s name #\n",
    "\n",
    "#   Melda Telkök.\n"
   ]
  }
 ],
 "metadata": {
  "kernelspec": {
   "display_name": "Python 3 (ipykernel)",
   "language": "python",
   "name": "python3"
  },
  "language_info": {
   "codemirror_mode": {
    "name": "ipython",
    "version": 3
   },
   "file_extension": ".py",
   "mimetype": "text/x-python",
   "name": "python",
   "nbconvert_exporter": "python",
   "pygments_lexer": "ipython3",
   "version": "3.9.13"
  }
 },
 "nbformat": 4,
 "nbformat_minor": 5
}
